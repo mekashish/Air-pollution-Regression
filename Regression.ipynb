{
 "cells": [
  {
   "cell_type": "code",
   "execution_count": 1,
   "id": "184f3c9b",
   "metadata": {},
   "outputs": [],
   "source": [
    "import numpy as np\n",
    "import pandas as pd\n",
    "import matplotlib.pyplot as plt"
   ]
  },
  {
   "cell_type": "code",
   "execution_count": 17,
   "id": "3745e8f6",
   "metadata": {},
   "outputs": [],
   "source": [
    "data = pd.read_csv('Train.csv')"
   ]
  },
  {
   "cell_type": "code",
   "execution_count": 18,
   "id": "ba987e4d",
   "metadata": {},
   "outputs": [
    {
     "data": {
      "text/html": [
       "<div>\n",
       "<style scoped>\n",
       "    .dataframe tbody tr th:only-of-type {\n",
       "        vertical-align: middle;\n",
       "    }\n",
       "\n",
       "    .dataframe tbody tr th {\n",
       "        vertical-align: top;\n",
       "    }\n",
       "\n",
       "    .dataframe thead th {\n",
       "        text-align: right;\n",
       "    }\n",
       "</style>\n",
       "<table border=\"1\" class=\"dataframe\">\n",
       "  <thead>\n",
       "    <tr style=\"text-align: right;\">\n",
       "      <th></th>\n",
       "      <th>feature_1</th>\n",
       "      <th>feature_2</th>\n",
       "      <th>feature_3</th>\n",
       "      <th>feature_4</th>\n",
       "      <th>feature_5</th>\n",
       "      <th>target</th>\n",
       "    </tr>\n",
       "  </thead>\n",
       "  <tbody>\n",
       "    <tr>\n",
       "      <th>0</th>\n",
       "      <td>0.293416</td>\n",
       "      <td>-0.945599</td>\n",
       "      <td>-0.421105</td>\n",
       "      <td>0.406816</td>\n",
       "      <td>0.525662</td>\n",
       "      <td>-82.154667</td>\n",
       "    </tr>\n",
       "    <tr>\n",
       "      <th>1</th>\n",
       "      <td>-0.836084</td>\n",
       "      <td>-0.189228</td>\n",
       "      <td>-0.776403</td>\n",
       "      <td>-1.053831</td>\n",
       "      <td>0.597997</td>\n",
       "      <td>-48.897960</td>\n",
       "    </tr>\n",
       "    <tr>\n",
       "      <th>2</th>\n",
       "      <td>0.236425</td>\n",
       "      <td>0.132836</td>\n",
       "      <td>-0.147723</td>\n",
       "      <td>0.699854</td>\n",
       "      <td>-0.187364</td>\n",
       "      <td>77.270371</td>\n",
       "    </tr>\n",
       "    <tr>\n",
       "      <th>3</th>\n",
       "      <td>0.175312</td>\n",
       "      <td>0.143194</td>\n",
       "      <td>-0.581111</td>\n",
       "      <td>-0.122107</td>\n",
       "      <td>-1.292168</td>\n",
       "      <td>-2.988581</td>\n",
       "    </tr>\n",
       "    <tr>\n",
       "      <th>4</th>\n",
       "      <td>-1.693011</td>\n",
       "      <td>0.542712</td>\n",
       "      <td>-2.798729</td>\n",
       "      <td>-0.686723</td>\n",
       "      <td>1.244077</td>\n",
       "      <td>-37.596722</td>\n",
       "    </tr>\n",
       "    <tr>\n",
       "      <th>...</th>\n",
       "      <td>...</td>\n",
       "      <td>...</td>\n",
       "      <td>...</td>\n",
       "      <td>...</td>\n",
       "      <td>...</td>\n",
       "      <td>...</td>\n",
       "    </tr>\n",
       "    <tr>\n",
       "      <th>1595</th>\n",
       "      <td>-0.274961</td>\n",
       "      <td>-0.820634</td>\n",
       "      <td>-0.757173</td>\n",
       "      <td>-0.147555</td>\n",
       "      <td>-0.307149</td>\n",
       "      <td>-80.110012</td>\n",
       "    </tr>\n",
       "    <tr>\n",
       "      <th>1596</th>\n",
       "      <td>-0.076099</td>\n",
       "      <td>0.255257</td>\n",
       "      <td>0.290054</td>\n",
       "      <td>1.796036</td>\n",
       "      <td>0.340350</td>\n",
       "      <td>118.315601</td>\n",
       "    </tr>\n",
       "    <tr>\n",
       "      <th>1597</th>\n",
       "      <td>1.044177</td>\n",
       "      <td>-0.899206</td>\n",
       "      <td>1.730399</td>\n",
       "      <td>-1.871057</td>\n",
       "      <td>0.442520</td>\n",
       "      <td>-107.510508</td>\n",
       "    </tr>\n",
       "    <tr>\n",
       "      <th>1598</th>\n",
       "      <td>-1.269173</td>\n",
       "      <td>-0.005052</td>\n",
       "      <td>1.857669</td>\n",
       "      <td>-1.080365</td>\n",
       "      <td>0.736334</td>\n",
       "      <td>-47.341558</td>\n",
       "    </tr>\n",
       "    <tr>\n",
       "      <th>1599</th>\n",
       "      <td>-1.884000</td>\n",
       "      <td>-0.849427</td>\n",
       "      <td>-1.452270</td>\n",
       "      <td>0.488613</td>\n",
       "      <td>1.459576</td>\n",
       "      <td>-115.939003</td>\n",
       "    </tr>\n",
       "  </tbody>\n",
       "</table>\n",
       "<p>1600 rows × 6 columns</p>\n",
       "</div>"
      ],
      "text/plain": [
       "      feature_1  feature_2  feature_3  feature_4  feature_5      target\n",
       "0      0.293416  -0.945599  -0.421105   0.406816   0.525662  -82.154667\n",
       "1     -0.836084  -0.189228  -0.776403  -1.053831   0.597997  -48.897960\n",
       "2      0.236425   0.132836  -0.147723   0.699854  -0.187364   77.270371\n",
       "3      0.175312   0.143194  -0.581111  -0.122107  -1.292168   -2.988581\n",
       "4     -1.693011   0.542712  -2.798729  -0.686723   1.244077  -37.596722\n",
       "...         ...        ...        ...        ...        ...         ...\n",
       "1595  -0.274961  -0.820634  -0.757173  -0.147555  -0.307149  -80.110012\n",
       "1596  -0.076099   0.255257   0.290054   1.796036   0.340350  118.315601\n",
       "1597   1.044177  -0.899206   1.730399  -1.871057   0.442520 -107.510508\n",
       "1598  -1.269173  -0.005052   1.857669  -1.080365   0.736334  -47.341558\n",
       "1599  -1.884000  -0.849427  -1.452270   0.488613   1.459576 -115.939003\n",
       "\n",
       "[1600 rows x 6 columns]"
      ]
     },
     "execution_count": 18,
     "metadata": {},
     "output_type": "execute_result"
    }
   ],
   "source": [
    "data"
   ]
  },
  {
   "cell_type": "code",
   "execution_count": 19,
   "id": "5177eab9",
   "metadata": {},
   "outputs": [],
   "source": [
    "data = data.values"
   ]
  },
  {
   "cell_type": "code",
   "execution_count": 21,
   "id": "08c8e9b5",
   "metadata": {},
   "outputs": [
    {
     "data": {
      "text/plain": [
       "(1600, 6)"
      ]
     },
     "execution_count": 21,
     "metadata": {},
     "output_type": "execute_result"
    }
   ],
   "source": [
    "data.shape"
   ]
  },
  {
   "cell_type": "code",
   "execution_count": 24,
   "id": "ef83fefa",
   "metadata": {},
   "outputs": [],
   "source": [
    "X = data[:,:5]\n",
    "Y = data[:,5]"
   ]
  },
  {
   "cell_type": "code",
   "execution_count": 25,
   "id": "13b82abc",
   "metadata": {},
   "outputs": [
    {
     "name": "stdout",
     "output_type": "stream",
     "text": [
      "(1600, 5)\n",
      "(1600,)\n"
     ]
    }
   ],
   "source": [
    "print(X.shape)\n",
    "print(Y.shape)"
   ]
  },
  {
   "cell_type": "code",
   "execution_count": 27,
   "id": "8a5e7c7b",
   "metadata": {},
   "outputs": [
    {
     "name": "stdout",
     "output_type": "stream",
     "text": [
      "(1600, 1)\n"
     ]
    }
   ],
   "source": [
    "Y = Y.reshape(-1,1)\n",
    "print(Y.shape)"
   ]
  },
  {
   "cell_type": "code",
   "execution_count": 33,
   "id": "9222d869",
   "metadata": {},
   "outputs": [
    {
     "data": {
      "image/png": "[encoded data removed]",
      "text/plain": [
       "<Figure size 576x396 with 1 Axes>"
      ]
     },
     "metadata": {},
     "output_type": "display_data"
    }
   ],
   "source": [
    "plt.style.use(\"seaborn\")\n",
    "plt.scatter(X[:,4],Y)  \n",
    "plt.show()"
   ]
  },
  {
   "cell_type": "code",
   "execution_count": 34,
   "id": "f76b94aa",
   "metadata": {},
   "outputs": [
    {
     "name": "stdout",
     "output_type": "stream",
     "text": [
      "(1600, 6)\n",
      "[[ 0.29341624 -0.94559871 -0.42110515  0.40681602  0.52566183  1.        ]\n",
      " [-0.83608408 -0.18922804 -0.77640262 -1.05383124  0.59799685  1.        ]\n",
      " [ 0.23642511  0.13283602 -0.14772298  0.69985396 -0.18736416  1.        ]\n",
      " [ 0.17531181  0.14319424 -0.58111096 -0.12210693 -1.29216807  1.        ]\n",
      " [-1.69301097  0.54271187 -2.79872942 -0.68672304  1.24407683  1.        ]]\n"
     ]
    }
   ],
   "source": [
    "# appending a column of ones to X matrix\n",
    "ones = np.ones((X.shape[0],1))\n",
    "X_ = np.hstack((X,ones))   # generating new matrix by stacking X and ones together\n",
    "print(X_.shape)\n",
    "print(X_[:5,:])   # printing first five rows"
   ]
  },
  {
   "cell_type": "code",
   "execution_count": 44,
   "id": "5e40f9aa",
   "metadata": {},
   "outputs": [],
   "source": [
    "def predict(X,theta):     # dot product of X and theta\n",
    "    return np.dot(X,theta)\n",
    "\n",
    "def getThetaClosedForm(X,Y):\n",
    "    Y = np.mat(Y)      # converting Y to a matrix, earlier Y was a vector\n",
    "    firstPart = np.dot(X.T,X)\n",
    "    secondPart = np.dot(X.T,Y)\n",
    "    # to compute inverse, we are using psuedo inverse method\n",
    "    theta = np.linalg.pinv(firstPart)*secondPart\n",
    "    return theta"
   ]
  },
  {
   "cell_type": "code",
   "execution_count": 56,
   "id": "541c2d45",
   "metadata": {},
   "outputs": [
    {
     "name": "stdout",
     "output_type": "stream",
     "text": [
      "<class 'numpy.matrix'>\n",
      "[[29.68187118]\n",
      " [92.66247759]\n",
      " [ 8.28062089]\n",
      " [44.76773522]\n",
      " [ 2.51916121]\n",
      " [ 4.99096674]]\n"
     ]
    }
   ],
   "source": [
    "theta = getThetaClosedForm(X_,Y)\n",
    "print(type(theta))\n",
    "print(theta)"
   ]
  },
  {
   "cell_type": "code",
   "execution_count": 51,
   "id": "f0f83df6",
   "metadata": {},
   "outputs": [],
   "source": [
    "predictions = predict(X_,theta)"
   ]
  },
  {
   "cell_type": "code",
   "execution_count": 53,
   "id": "59638af5",
   "metadata": {},
   "outputs": [
    {
     "name": "stdout",
     "output_type": "stream",
     "text": [
      "<class 'numpy.matrix'>\n",
      "[[ -57.87196311]\n",
      " [ -89.46019557]\n",
      " [  53.95305942]\n",
      " ...\n",
      " [-115.65802541]\n",
      " [ -64.27649688]\n",
      " [-116.11442895]]\n"
     ]
    }
   ],
   "source": [
    "print(type(predictions))\n",
    "print(predictions)"
   ]
  },
  {
   "cell_type": "markdown",
   "id": "f3ddd155",
   "metadata": {},
   "source": [
    "### Calculating for X_test"
   ]
  },
  {
   "cell_type": "code",
   "execution_count": 60,
   "id": "0a4e32c9",
   "metadata": {},
   "outputs": [],
   "source": [
    "X_test = pd.read_csv('Test.csv').values"
   ]
  },
  {
   "cell_type": "code",
   "execution_count": 61,
   "id": "e63caeae",
   "metadata": {},
   "outputs": [
    {
     "data": {
      "text/plain": [
       "(400, 5)"
      ]
     },
     "execution_count": 61,
     "metadata": {},
     "output_type": "execute_result"
    }
   ],
   "source": [
    "X_test.shape"
   ]
  },
  {
   "cell_type": "code",
   "execution_count": 62,
   "id": "3660dd0a",
   "metadata": {},
   "outputs": [
    {
     "name": "stdout",
     "output_type": "stream",
     "text": [
      "(400, 6)\n",
      "[[ 1.01525387  2.07620944 -0.26643482 -2.4180882  -0.98050279  1.        ]\n",
      " [-0.3750212   0.95318453  0.62671914  0.70440575 -0.35548921  1.        ]\n",
      " [-1.02445225  0.96299111 -0.407942   -1.86127383  0.45520135  1.        ]\n",
      " [-2.4898408   0.54480173  0.6012189  -0.60702147 -1.31428633  1.        ]\n",
      " [-0.38467471 -0.83362421  1.35855215 -0.54793205  0.41192542  1.        ]]\n"
     ]
    }
   ],
   "source": [
    "ones = np.ones((X_test.shape[0],1))\n",
    "X_test = np.hstack((X_test,ones))   \n",
    "print(X_test.shape)\n",
    "print(X_test[:5,:])"
   ]
  },
  {
   "cell_type": "code",
   "execution_count": 63,
   "id": "fe9a6a76",
   "metadata": {},
   "outputs": [],
   "source": [
    "predictions = predict(X_test,theta)"
   ]
  },
  {
   "cell_type": "code",
   "execution_count": 65,
   "id": "b66f76a4",
   "metadata": {},
   "outputs": [],
   "source": [
    "df = pd.DataFrame(predictions, columns=['target'])"
   ]
  },
  {
   "cell_type": "code",
   "execution_count": 66,
   "id": "52250a5c",
   "metadata": {},
   "outputs": [
    {
     "data": {
      "text/html": [
       "<div>\n",
       "<style scoped>\n",
       "    .dataframe tbody tr th:only-of-type {\n",
       "        vertical-align: middle;\n",
       "    }\n",
       "\n",
       "    .dataframe tbody tr th {\n",
       "        vertical-align: top;\n",
       "    }\n",
       "\n",
       "    .dataframe thead th {\n",
       "        text-align: right;\n",
       "    }\n",
       "</style>\n",
       "<table border=\"1\" class=\"dataframe\">\n",
       "  <thead>\n",
       "    <tr style=\"text-align: right;\">\n",
       "      <th></th>\n",
       "      <th>target</th>\n",
       "    </tr>\n",
       "  </thead>\n",
       "  <tbody>\n",
       "    <tr>\n",
       "      <th>0</th>\n",
       "      <td>114.583689</td>\n",
       "    </tr>\n",
       "    <tr>\n",
       "      <th>1</th>\n",
       "      <td>118.012815</td>\n",
       "    </tr>\n",
       "    <tr>\n",
       "      <th>2</th>\n",
       "      <td>-21.739852</td>\n",
       "    </tr>\n",
       "    <tr>\n",
       "      <th>3</th>\n",
       "      <td>-43.936899</td>\n",
       "    </tr>\n",
       "    <tr>\n",
       "      <th>4</th>\n",
       "      <td>-95.914898</td>\n",
       "    </tr>\n",
       "    <tr>\n",
       "      <th>...</th>\n",
       "      <td>...</td>\n",
       "    </tr>\n",
       "    <tr>\n",
       "      <th>395</th>\n",
       "      <td>-81.989000</td>\n",
       "    </tr>\n",
       "    <tr>\n",
       "      <th>396</th>\n",
       "      <td>-186.032535</td>\n",
       "    </tr>\n",
       "    <tr>\n",
       "      <th>397</th>\n",
       "      <td>125.292336</td>\n",
       "    </tr>\n",
       "    <tr>\n",
       "      <th>398</th>\n",
       "      <td>65.369841</td>\n",
       "    </tr>\n",
       "    <tr>\n",
       "      <th>399</th>\n",
       "      <td>57.059691</td>\n",
       "    </tr>\n",
       "  </tbody>\n",
       "</table>\n",
       "<p>400 rows × 1 columns</p>\n",
       "</div>"
      ],
      "text/plain": [
       "         target\n",
       "0    114.583689\n",
       "1    118.012815\n",
       "2    -21.739852\n",
       "3    -43.936899\n",
       "4    -95.914898\n",
       "..          ...\n",
       "395  -81.989000\n",
       "396 -186.032535\n",
       "397  125.292336\n",
       "398   65.369841\n",
       "399   57.059691\n",
       "\n",
       "[400 rows x 1 columns]"
      ]
     },
     "execution_count": 66,
     "metadata": {},
     "output_type": "execute_result"
    }
   ],
   "source": [
    "df"
   ]
  },
  {
   "cell_type": "code",
   "execution_count": 67,
   "id": "107dbeb3",
   "metadata": {},
   "outputs": [],
   "source": [
    "df.to_csv('Outcome.csv')"
   ]
  },
  {
   "cell_type": "code",
   "execution_count": null,
   "id": "3f49ecbd",
   "metadata": {},
   "outputs": [],
   "source": []
  }
 ],
 "metadata": {
  "kernelspec": {
   "display_name": "Python 3 (ipykernel)",
   "language": "python",
   "name": "python3"
  },
  "language_info": {
   "codemirror_mode": {
    "name": "ipython",
    "version": 3
   },
   "file_extension": ".py",
   "mimetype": "text/x-python",
   "name": "python",
   "nbconvert_exporter": "python",
   "pygments_lexer": "ipython3",
   "version": "3.8.9"
  }
 },
 "nbformat": 4,
 "nbformat_minor": 5
}
